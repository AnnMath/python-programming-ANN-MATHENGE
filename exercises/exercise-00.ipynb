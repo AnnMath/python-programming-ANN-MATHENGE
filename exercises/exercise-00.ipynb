{
 "cells": [
  {
   "cell_type": "markdown",
   "id": "36663206",
   "metadata": {},
   "source": [
    "# Exercises"
   ]
  },
  {
   "cell_type": "markdown",
   "id": "3dae477f",
   "metadata": {},
   "source": [
    "## Exercise 00 - Count with Python"
   ]
  },
  {
   "cell_type": "markdown",
   "id": "efd09aed",
   "metadata": {},
   "source": [
    "### 1. Pythagorean theorem"
   ]
  },
  {
   "cell_type": "markdown",
   "id": "46d93ae7",
   "metadata": {},
   "source": [
    "  a)   A right angled triangle has the catheti: a = 3 and b = 4 length units. Compute the hypothenuse of the triangle. (*)\n",
    "\n"
   ]
  },
  {
   "cell_type": "code",
   "execution_count": 1,
   "id": "ba523d76",
   "metadata": {},
   "outputs": [
    {
     "name": "stdout",
     "output_type": "stream",
     "text": [
      "The hypotenuse of the triangle is 5.0\n"
     ]
    }
   ],
   "source": [
    "import math\n",
    "\n",
    "a = 3\n",
    "b = 4\n",
    "\n",
    "c = math.sqrt(a**2 + b**2)\n",
    "\n",
    "print(f'The hypotenuse of the triangle is {c}')"
   ]
  },
  {
   "cell_type": "markdown",
   "id": "e98a4cea",
   "metadata": {},
   "source": [
    "b) A right angled triangle has hypothenuse c = 7.0 and a cathetus a = 5.0 length units. Compute the other cathetus and round to one decimal"
   ]
  },
  {
   "cell_type": "code",
   "execution_count": 2,
   "id": "b0934ce9",
   "metadata": {},
   "outputs": [
    {
     "name": "stdout",
     "output_type": "stream",
     "text": [
      "The cathetus = 4.9\n"
     ]
    }
   ],
   "source": [
    "hyp = 7\n",
    "a = 5\n",
    "\n",
    "b = math.sqrt(hyp**2 - a**2)\n",
    "\n",
    "print(f'The cathetus = {round(b, 2)}')"
   ]
  },
  {
   "cell_type": "markdown",
   "id": "41fe6184",
   "metadata": {},
   "source": [
    "### 2. Classification accuracy\n",
    "A machine learning algorithm has been trained to predict whether or not it would rain the next day. Out of 365 predictions, it got 300 correct, compute the accuracy of this model."
   ]
  },
  {
   "cell_type": "code",
   "execution_count": 5,
   "id": "c5fd781d",
   "metadata": {},
   "outputs": [
    {
     "name": "stdout",
     "output_type": "stream",
     "text": [
      "The accuracy of the model is 0.82\n"
     ]
    }
   ],
   "source": [
    "predictions = 365\n",
    "correct = 300\n",
    "accuracy = 300/365\n",
    "\n",
    "print(f'The accuracy of the model is {accuracy:.2f}')"
   ]
  },
  {
   "cell_type": "markdown",
   "id": "c091f8da",
   "metadata": {},
   "source": [
    "### 3. Classification accuracy"
   ]
  },
  {
   "cell_type": "markdown",
   "id": "69261d0b",
   "metadata": {},
   "source": [
    "This is not a great model for fire prediction because it gave 11 false negatives i.e. there were 11 fires where the alarm did not go off. It would be a good model for something like image recognition though."
   ]
  },
  {
   "cell_type": "code",
   "execution_count": 3,
   "id": "b82bbcb0",
   "metadata": {},
   "outputs": [
    {
     "name": "stdout",
     "output_type": "stream",
     "text": [
      "The accuracy is 0.987\n"
     ]
    }
   ],
   "source": [
    "tp = 2\n",
    "fp = 2\n",
    "fn = 11\n",
    "tn = 985\n",
    "\n",
    "accuracy = (tp + tn) / (tp + tn + fp + fn)\n",
    "\n",
    "print(f'The accuracy is {accuracy}')"
   ]
  },
  {
   "cell_type": "markdown",
   "id": "2f731cf9",
   "metadata": {},
   "source": [
    "### 4.  Line\n",
    "Compute the slope $k$ and the constant term $m$ of this line using the points $A: (4,4)$ and $B: (0,1)$."
   ]
  },
  {
   "cell_type": "code",
   "execution_count": null,
   "id": "b24e9876",
   "metadata": {},
   "outputs": [
    {
     "name": "stdout",
     "output_type": "stream",
     "text": [
      "The equation of the slope is y = 0.75x + 1\n"
     ]
    }
   ],
   "source": [
    "A = (4,4)\n",
    "B = (0,1)\n",
    "\n",
    "diff_x = A[0] - B[0]\n",
    "diff_y = A[1] - B[1]\n",
    "\n",
    "k = diff_y/diff_x\n",
    "y = A[1]\n",
    "x = A[0]\n",
    "\n",
    "m = y - (k*x)\n",
    "\n",
    "print(f'The equation of the slope is y = {k}x + {round(m)}')"
   ]
  },
  {
   "cell_type": "markdown",
   "id": "a4766060",
   "metadata": {},
   "source": [
    "### 5. Euclidean distance\n",
    "The Euclidean distance between the points $P_1$ and $P_2$ is the length of a line between them. Let $P_1: (3,5)$ and $P_2: (-2,4)$ and compute the distance between them."
   ]
  },
  {
   "cell_type": "code",
   "execution_count": 15,
   "id": "dd6ebd0f",
   "metadata": {},
   "outputs": [
    {
     "name": "stdout",
     "output_type": "stream",
     "text": [
      "The distance between the two points is 5.1\n"
     ]
    }
   ],
   "source": [
    "P1 = (3,5)\n",
    "P2 = (-2,4)\n",
    "\n",
    "x2 = (P1[0] - P2[0])**2\n",
    "y2 = (P1[1] - P2[1] )**2\n",
    "\n",
    "distance = round(math.sqrt(x2 + y2), 2)\n",
    "\n",
    "print(f'The distance between the two points is {distance}')\n"
   ]
  },
  {
   "cell_type": "markdown",
   "id": "f731ff98",
   "metadata": {},
   "source": [
    "Alternatively (TIL that Python has a method for finding the Euclidean distance between two points!)"
   ]
  },
  {
   "cell_type": "code",
   "execution_count": 12,
   "id": "a04ec85f",
   "metadata": {},
   "outputs": [
    {
     "name": "stdout",
     "output_type": "stream",
     "text": [
      "The distance is 5.1\n"
     ]
    }
   ],
   "source": [
    "P1 = (3,5)\n",
    "P2 = (-2,4)\n",
    "\n",
    "distance = round(math.dist(P1, P2), 2)\n",
    "\n",
    "print(f'The distance is {distance}')"
   ]
  },
  {
   "cell_type": "markdown",
   "id": "1a9f1b02",
   "metadata": {},
   "source": [
    "### 6. Euclidean distance in 3D\n",
    "Calculate the distance between the points $P_1: (2,1,4)$ and $P_2: (3,1,0)$"
   ]
  },
  {
   "cell_type": "markdown",
   "id": "2e0ce1c1",
   "metadata": {},
   "source": [
    "The long way:"
   ]
  },
  {
   "cell_type": "code",
   "execution_count": 16,
   "id": "e5d509f5",
   "metadata": {},
   "outputs": [
    {
     "name": "stdout",
     "output_type": "stream",
     "text": [
      "The distance between the two points is 4.12\n"
     ]
    }
   ],
   "source": [
    "P1 = (2,1,4)\n",
    "P2 = (3,1,0)\n",
    "\n",
    "diff_x = P1[0] - P2[0]\n",
    "diff_y = P1[1] - P2[1]\n",
    "diff_z = P1[2] - P2[2]\n",
    "\n",
    "diff_x2 = diff_x**2\n",
    "diff_y2 = diff_y**2\n",
    "diff_z2 = diff_z**2\n",
    "\n",
    "sum_of_squares = diff_x2 + diff_y2 + diff_z2\n",
    "\n",
    "distance = round(math.sqrt(sum_of_squares), 2)\n",
    "\n",
    "\n",
    "print(f'The distance between the two points is {distance}')"
   ]
  },
  {
   "cell_type": "markdown",
   "id": "d85ca76b",
   "metadata": {},
   "source": [
    "The short way :)"
   ]
  },
  {
   "cell_type": "code",
   "execution_count": 17,
   "id": "aba92eb0",
   "metadata": {},
   "outputs": [
    {
     "name": "stdout",
     "output_type": "stream",
     "text": [
      "The distance between the two points is 4.12\n"
     ]
    }
   ],
   "source": [
    "P1 = (2,1,4)\n",
    "P2 = (3,1,0)\n",
    "\n",
    "distance = round(math.dist(P1,P2),2)\n",
    "\n",
    "print(f'The distance between the two points is {distance}')"
   ]
  }
 ],
 "metadata": {
  "kernelspec": {
   "display_name": ".venv",
   "language": "python",
   "name": "python3"
  },
  "language_info": {
   "codemirror_mode": {
    "name": "ipython",
    "version": 3
   },
   "file_extension": ".py",
   "mimetype": "text/x-python",
   "name": "python",
   "nbconvert_exporter": "python",
   "pygments_lexer": "ipython3",
   "version": "3.12.3"
  }
 },
 "nbformat": 4,
 "nbformat_minor": 5
}
